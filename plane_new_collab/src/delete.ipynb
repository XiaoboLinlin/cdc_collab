{
 "cells": [
  {
   "cell_type": "code",
   "execution_count": 1,
   "metadata": {},
   "outputs": [],
   "source": [
    "import os\n",
    "import signac\n",
    "import numpy as np\n",
    "import matplotlib.pyplot as plt\n",
    "import mdtraj as md\n",
    "project = signac.get_project()"
   ]
  },
  {
   "cell_type": "markdown",
   "metadata": {},
   "source": []
  },
  {
   "cell_type": "code",
   "execution_count": 2,
   "metadata": {},
   "outputs": [
    {
     "name": "stdout",
     "output_type": "stream",
     "text": [
      "7be66ef6b8159e6685b89c8af1959925\n",
      "neat_emimtfsi\n",
      "080e6fba1a0ec2152a9e26004cf90366\n",
      "acn_litfsi\n"
     ]
    }
   ],
   "source": [
    "import re\n",
    "for job in project.find_jobs():\n",
    "    # if job.statepoint()['voltage'] == 3 and job.statepoint()['seed'] == 3:\n",
    "        remove = os.path.join(job.workspace(), 'sample_density.xvg')\n",
    "        if os.path.exists(remove):\n",
    "            os.remove(remove)\n",
    "            print(job.id)\n",
    "            print(job.statepoint()['case'])"
   ]
  },
  {
   "cell_type": "code",
   "execution_count": 4,
   "metadata": {},
   "outputs": [
    {
     "name": "stdout",
     "output_type": "stream",
     "text": [
      "3e1ccf3c95b68f26d059e8046832db49\n",
      "neat_emimtfsi\n",
      "bfda7ca43d6f61270dcb04ca257527ae\n",
      "acn_emimtfsi\n",
      "0842a4db15732272c3903ed7ebe623b1\n",
      "acn_litfsi\n",
      "51ab212abf543093b018602a6779737d\n",
      "wat_litfsi\n"
     ]
    }
   ],
   "source": [
    "import re\n",
    "for job in project.find_jobs():\n",
    "    if job.statepoint()['voltage'] == 0 and job.statepoint()['seed'] == 3:\n",
    "        # remove = os.path.join(job.workspace(), 'system_lmp.gro')\n",
    "        # if os.path.exists(remove):\n",
    "        #     # os.remove(remove)\n",
    "            print(job.id)\n",
    "            print(job.statepoint()['case'])"
   ]
  },
  {
   "cell_type": "code",
   "execution_count": 1,
   "metadata": {},
   "outputs": [
    {
     "ename": "NameError",
     "evalue": "name 'project' is not defined",
     "output_type": "error",
     "traceback": [
      "\u001b[0;31m---------------------------------------------------------------------------\u001b[0m",
      "\u001b[0;31mNameError\u001b[0m                                 Traceback (most recent call last)",
      "\u001b[0;32m/tmp/ipykernel_3494805/73239445.py\u001b[0m in \u001b[0;36m<module>\u001b[0;34m\u001b[0m\n\u001b[1;32m      1\u001b[0m \u001b[0;32mimport\u001b[0m \u001b[0mre\u001b[0m\u001b[0;34m\u001b[0m\u001b[0;34m\u001b[0m\u001b[0m\n\u001b[0;32m----> 2\u001b[0;31m \u001b[0;32mfor\u001b[0m \u001b[0mjob\u001b[0m \u001b[0;32min\u001b[0m \u001b[0mproject\u001b[0m\u001b[0;34m.\u001b[0m\u001b[0mfind_jobs\u001b[0m\u001b[0;34m(\u001b[0m\u001b[0;34m)\u001b[0m\u001b[0;34m:\u001b[0m\u001b[0;34m\u001b[0m\u001b[0;34m\u001b[0m\u001b[0m\n\u001b[0m\u001b[1;32m      3\u001b[0m     \u001b[0;31m# if job.statepoint()['voltage'] == 0 and job.statepoint()['seed'] == 3:\u001b[0m\u001b[0;34m\u001b[0m\u001b[0;34m\u001b[0m\u001b[0;34m\u001b[0m\u001b[0m\n\u001b[1;32m      4\u001b[0m         \u001b[0mremove\u001b[0m \u001b[0;34m=\u001b[0m \u001b[0mos\u001b[0m\u001b[0;34m.\u001b[0m\u001b[0mpath\u001b[0m\u001b[0;34m.\u001b[0m\u001b[0mjoin\u001b[0m\u001b[0;34m(\u001b[0m\u001b[0mjob\u001b[0m\u001b[0;34m.\u001b[0m\u001b[0mworkspace\u001b[0m\u001b[0;34m(\u001b[0m\u001b[0;34m)\u001b[0m\u001b[0;34m,\u001b[0m \u001b[0;34m'sample.gro'\u001b[0m\u001b[0;34m)\u001b[0m\u001b[0;34m\u001b[0m\u001b[0;34m\u001b[0m\u001b[0m\n\u001b[1;32m      5\u001b[0m         \u001b[0;32mif\u001b[0m \u001b[0mos\u001b[0m\u001b[0;34m.\u001b[0m\u001b[0mpath\u001b[0m\u001b[0;34m.\u001b[0m\u001b[0mexists\u001b[0m\u001b[0;34m(\u001b[0m\u001b[0mremove\u001b[0m\u001b[0;34m)\u001b[0m\u001b[0;34m:\u001b[0m\u001b[0;34m\u001b[0m\u001b[0;34m\u001b[0m\u001b[0m\n",
      "\u001b[0;31mNameError\u001b[0m: name 'project' is not defined"
     ]
    }
   ],
   "source": [
    "import re\n",
    "for job in project.find_jobs():\n",
    "    # if job.statepoint()['voltage'] == 0 and job.statepoint()['seed'] == 3:\n",
    "        remove = os.path.join(job.workspace(), 'sample.gro')\n",
    "        if os.path.exists(remove):\n",
    "            # os.remove(remove)\n",
    "            print(job.id)\n",
    "            print(job.statepoint()['case'])"
   ]
  },
  {
   "cell_type": "code",
   "execution_count": 4,
   "metadata": {},
   "outputs": [
    {
     "name": "stdout",
     "output_type": "stream",
     "text": [
      "6159b48c31cc80881b047d79feb31bb6\n"
     ]
    },
    {
     "data": {
      "text/plain": [
       "(0.0, 0.1)"
      ]
     },
     "execution_count": 4,
     "metadata": {},
     "output_type": "execute_result"
    },
    {
     "data": {
      "image/png": "[encoded data removed]",
      "text/plain": [
       "<Figure size 432x288 with 1 Axes>"
      ]
     },
     "metadata": {
      "needs_background": "light"
     },
     "output_type": "display_data"
    }
   ],
   "source": [
    "for job in project.find_jobs({'case': 'acn_emimtfsi', 'seed': 3, 'voltage': 3}):\n",
    "    print(job.id)\n",
    "    # trj_file = os.path.join(job.workspace(), \"sample_com_unwrapped.xtc\")\n",
    "    # gro_file = os.path.join(job.workspace(), \"com.gro\")\n",
    "    trj_file = os.path.join(job.workspace(), \"sample.xtc\")\n",
    "    gro_file = os.path.join(job.workspace(), \"system.gro\")\n",
    "    trj = md.load(trj_file,top = gro_file)\n",
    "    trj = trj.atom_slice(trj.top.select('resname emim'))\n",
    "    # trj = trj[0:-int(len(trj)/3)]\n",
    "    # trj = trj[-int(len(trj)/5):]\n",
    "    all_xyz = trj.xyz\n",
    "    total_xyz = all_xyz\n",
    "    # if seed == 0:\n",
    "    #     total_xyz = all_xyz\n",
    "    # else:\n",
    "    #     total_xyz = np.concatenate((total_xyz, all_xyz), axis = 0)\n",
    "    \n",
    "    \n",
    "# all_xyz = np.reshape(all_xyz, (-1,3))\n",
    "# plt.hist(all_xyz[:,2], density=True, bins=240) \n",
    "    # t = np.arange(0, len(charge)) * 0.002\n",
    "total_xyz = np.reshape(total_xyz, (-1,3))\n",
    "plt.hist(total_xyz[:,1], density=True, bins=300) \n",
    "plt.ylim(0,0.1)"
   ]
  },
  {
   "cell_type": "code",
   "execution_count": 6,
   "metadata": {},
   "outputs": [
    {
     "name": "stdout",
     "output_type": "stream",
     "text": [
      "6159b48c31cc80881b047d79feb31bb6\n"
     ]
    },
    {
     "data": {
      "text/plain": [
       "(0.0, 0.1)"
      ]
     },
     "execution_count": 6,
     "metadata": {},
     "output_type": "execute_result"
    },
    {
     "data": {
      "image/png": "[encoded data removed]",
      "text/plain": [
       "<Figure size 432x288 with 1 Axes>"
      ]
     },
     "metadata": {
      "needs_background": "light"
     },
     "output_type": "display_data"
    }
   ],
   "source": [
    "for job in project.find_jobs({'case': 'acn_emimtfsi', 'seed': 3, 'voltage': 3}):\n",
    "    print(job.id)\n",
    "    # trj_file = os.path.join(job.workspace(), \"sample_com_unwrapped.xtc\")\n",
    "    # gro_file = os.path.join(job.workspace(), \"com.gro\")\n",
    "    trj_file = os.path.join(job.workspace(), \"sample.xtc\")\n",
    "    gro_file = os.path.join(job.workspace(), \"system.gro\")\n",
    "    trj = md.load(trj_file,top = gro_file)\n",
    "    trj = trj.atom_slice(trj.top.select('resname emim tfsi'))\n",
    "    # trj = trj[0:-int(len(trj)/3)]\n",
    "    # trj = trj[-int(len(trj)/5):]\n",
    "    all_xyz = trj.xyz\n",
    "    total_xyz = all_xyz\n",
    "    # if seed == 0:\n",
    "    #     total_xyz = all_xyz\n",
    "    # else:\n",
    "    #     total_xyz = np.concatenate((total_xyz, all_xyz), axis = 0)\n",
    "    \n",
    "    \n",
    "# all_xyz = np.reshape(all_xyz, (-1,3))\n",
    "# plt.hist(all_xyz[:,2], density=True, bins=240) \n",
    "    # t = np.arange(0, len(charge)) * 0.002\n",
    "total_xyz = np.reshape(total_xyz, (-1,3))\n",
    "plt.hist(total_xyz[:,1], density=True, bins=300) \n",
    "plt.ylim(0,0.1)"
   ]
  },
  {
   "cell_type": "markdown",
   "metadata": {},
   "source": []
  },
  {
   "cell_type": "code",
   "execution_count": null,
   "metadata": {},
   "outputs": [],
   "source": []
  },
  {
   "cell_type": "code",
   "execution_count": 4,
   "metadata": {},
   "outputs": [
    {
     "name": "stdout",
     "output_type": "stream",
     "text": [
      "four 42852732cf8d141a4b9a45bbab5db4cd\n",
      "4d82ba8fc44e1fa986ebea6b8765d525\n",
      "9fff3438d1d11de8398ca73407524daa\n",
      "d7b624fb5f0e2fe308c179c9d71f152b\n"
     ]
    }
   ],
   "source": [
    "for job in project.find_jobs():\n",
    "    if job.statepoint()['case'] == 'acn_litfsi' and job.statepoint()['voltage'] == 0:\n",
    "        print(job.id)\n",
    "    if job.statepoint()['case'] == 'wat_litfsi' and job.statepoint()['voltage'] == 0:\n",
    "        print(job.id)\n",
    "    if job.statepoint()['case'] == 'neat_emimtfsi' and job.statepoint()['voltage'] == 0:\n",
    "        print(job.id)\n",
    "    if job.statepoint()['case'] == 'neat_emimtfsi' and job.statepoint()['voltage'] == 1:\n",
    "        print('four', job.id)"
   ]
  },
  {
   "cell_type": "code",
   "execution_count": 2,
   "metadata": {},
   "outputs": [
    {
     "name": "stdout",
     "output_type": "stream",
     "text": [
      "42852732cf8d141a4b9a45bbab5db4cd\n",
      "neat_emimtfsi\n",
      "4d82ba8fc44e1fa986ebea6b8765d525\n",
      "neat_emimtfsi\n",
      "5d39645ec901f43a239d6598404b6cf9\n",
      "acn_litfsi\n",
      "9fff3438d1d11de8398ca73407524daa\n",
      "wat_litfsi\n",
      "1cb6270def4fa805346228b03675d1e7\n",
      "acn_emimtfsi\n",
      "b614d3fec365d6ae3d11ed87f9ed8573\n",
      "wat_litfsi\n",
      "bae59f2e58aba6802c941fa98a382db8\n",
      "acn_emimtfsi\n",
      "d7b624fb5f0e2fe308c179c9d71f152b\n",
      "acn_litfsi\n"
     ]
    }
   ],
   "source": [
    "for job in project.find_jobs():\n",
    "    path = os.path.join(job.workspace(), \"file.restart.100000\")\n",
    "    if os.path.exists(path):\n",
    "        print(job.id)\n",
    "        print(job.statepoint()['case'])\n",
    "        \n"
   ]
  }
 ],
 "metadata": {
  "interpreter": {
   "hash": "1634af845ab246abefbd9343badd49b98cb264f3e643eadc8703c742aee64ee5"
  },
  "kernelspec": {
   "display_name": "Python 3.7.12 ('myenv')",
   "language": "python",
   "name": "python3"
  },
  "language_info": {
   "codemirror_mode": {
    "name": "ipython",
    "version": 3
   },
   "file_extension": ".py",
   "mimetype": "text/x-python",
   "name": "python",
   "nbconvert_exporter": "python",
   "pygments_lexer": "ipython3",
   "version": "3.7.12"
  },
  "orig_nbformat": 4
 },
 "nbformat": 4,
 "nbformat_minor": 2
}
