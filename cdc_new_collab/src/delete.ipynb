{
 "cells": [
  {
   "cell_type": "code",
   "execution_count": 1,
   "metadata": {},
   "outputs": [
    {
     "name": "stderr",
     "output_type": "stream",
     "text": [
      "Warning: importing 'simtk.openmm' is deprecated.  Import 'openmm' instead.\n"
     ]
    }
   ],
   "source": [
    "import os\n",
    "import signac\n",
    "import numpy as np\n",
    "import matplotlib.pyplot as plt\n",
    "import mdtraj as md\n",
    "project = signac.get_project()"
   ]
  },
  {
   "cell_type": "markdown",
   "metadata": {},
   "source": []
  },
  {
   "cell_type": "code",
   "execution_count": null,
   "metadata": {},
   "outputs": [
    {
     "ename": "",
     "evalue": "",
     "output_type": "error",
     "traceback": [
      "\u001b[1;31mFailed to start the Kernel. \n",
      "\u001b[1;31munknown option --ip=127.0.0.1\n",
      "\u001b[1;31musage: /global/homes/l/linx6/.conda/envs/myenv/bin/python [option] ... [-c cmd | -m mod | file | -] [arg] ...\n",
      "\u001b[1;31mTry `python -h' for more information. \n",
      "\u001b[1;31mView Jupyter <a href='command:jupyter.viewOutput'>log</a> for further details."
     ]
    }
   ],
   "source": [
    "import re\n",
    "for job in project.find_jobs():\n",
    "    # if job.statepoint()['voltage'] == 3 and job.statepoint()['seed'] == 3:\n",
    "        remove = os.path.join(job.workspace(), 'file.restart.100000')\n",
    "        if os.path.exists(remove):\n",
    "            ## remove '#' in the following line to delete files\n",
    "            # os.remove(remove)\n",
    "            print(job.id)\n",
    "            print(job.statepoint()['case'])"
   ]
  },
  {
   "cell_type": "markdown",
   "metadata": {},
   "source": []
  },
  {
   "cell_type": "code",
   "execution_count": 4,
   "metadata": {},
   "outputs": [
    {
     "name": "stdout",
     "output_type": "stream",
     "text": [
      "09ad58e59a07dcc17e8c7a71ca799edc\n",
      "20a9a1ca2ce30ef4975223f9ab9fc707\n",
      "3fe62e164449a4a74e8979e14329811e\n",
      "3e1ccf3c95b68f26d059e8046832db49\n",
      "four 6159b48c31cc80881b047d79feb31bb6\n",
      "11f11fc34adccb9fa097569f601a391a\n",
      "aa2ba1d60d1c09829e270ee8dfb113fc\n",
      "6f6f0b5b7af3ee1245bc9ef25a979e0a\n",
      "0842a4db15732272c3903ed7ebe623b1\n",
      "d74ae4d4bc2d8b1bfa629edda93d48d3\n",
      "b6301612951e56a1053e747a9e7a4692\n",
      "72252c083dfad0288e4100c9401bb282\n",
      "51ab212abf543093b018602a6779737d\n"
     ]
    }
   ],
   "source": [
    "for job in project.find_jobs():\n",
    "    if job.statepoint()['case'] == 'acn_litfsi' and job.statepoint()['voltage'] == 0:\n",
    "        print(job.id)\n",
    "    if job.statepoint()['case'] == 'wat_litfsi' and job.statepoint()['voltage'] == 0:\n",
    "        print(job.id)\n",
    "    if job.statepoint()['case'] == 'neat_emimtfsi' and job.statepoint()['voltage'] == 0:\n",
    "        print(job.id)\n",
    "    if job.statepoint()['case'] == 'acn_emimtfsi' and job.statepoint()['voltage'] == 3 and job.statepoint()['seed'] == 3 :\n",
    "        print('four', job.id)"
   ]
  },
  {
   "cell_type": "code",
   "execution_count": 2,
   "metadata": {},
   "outputs": [
    {
     "name": "stdout",
     "output_type": "stream",
     "text": [
      "42852732cf8d141a4b9a45bbab5db4cd\n",
      "neat_emimtfsi\n",
      "4d82ba8fc44e1fa986ebea6b8765d525\n",
      "neat_emimtfsi\n",
      "5d39645ec901f43a239d6598404b6cf9\n",
      "acn_litfsi\n",
      "9fff3438d1d11de8398ca73407524daa\n",
      "wat_litfsi\n",
      "1cb6270def4fa805346228b03675d1e7\n",
      "acn_emimtfsi\n",
      "b614d3fec365d6ae3d11ed87f9ed8573\n",
      "wat_litfsi\n",
      "bae59f2e58aba6802c941fa98a382db8\n",
      "acn_emimtfsi\n",
      "d7b624fb5f0e2fe308c179c9d71f152b\n",
      "acn_litfsi\n"
     ]
    }
   ],
   "source": [
    "for job in project.find_jobs():\n",
    "    path = os.path.join(job.workspace(), \"file.restart.100000\")\n",
    "    if os.path.exists(path):\n",
    "        print(job.id)\n",
    "        print(job.statepoint()['case'])\n",
    "        \n"
   ]
  }
 ],
 "metadata": {
  "kernelspec": {
   "display_name": "myenv",
   "language": "python",
   "name": "python3"
  },
  "language_info": {
   "codemirror_mode": {
    "name": "ipython",
    "version": 3
   },
   "file_extension": ".py",
   "mimetype": "text/x-python",
   "name": "python",
   "nbconvert_exporter": "python",
   "pygments_lexer": "ipython3",
   "version": "3.7.12"
  },
  "orig_nbformat": 4,
  "vscode": {
   "interpreter": {
    "hash": "6919630734e80075d70a576084f760367d85b264783db46fb6580f9800e9e60f"
   }
  }
 },
 "nbformat": 4,
 "nbformat_minor": 2
}
