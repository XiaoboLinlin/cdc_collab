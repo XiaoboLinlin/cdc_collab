{
 "cells": [
  {
   "cell_type": "code",
   "execution_count": 1,
   "metadata": {},
   "outputs": [],
   "source": [
    "import MDAnalysis as mda\n",
    "import numpy as np"
   ]
  },
  {
   "cell_type": "code",
   "execution_count": 5,
   "metadata": {},
   "outputs": [],
   "source": [
    "u_gro = mda.Universe('system_lmp.gro')\n",
    "u_ele = u_gro.select_atoms('resid 1')"
   ]
  },
  {
   "cell_type": "code",
   "execution_count": 6,
   "metadata": {},
   "outputs": [
    {
     "data": {
      "text/plain": [
       "3620"
      ]
     },
     "execution_count": 6,
     "metadata": {},
     "output_type": "execute_result"
    }
   ],
   "source": [
    "u_ele.n_atoms"
   ]
  },
  {
   "cell_type": "code",
   "execution_count": 13,
   "metadata": {},
   "outputs": [],
   "source": [
    "from CPManalysis.clean_file import clean_dumpfile\n",
    "\n",
    "new_content = clean_dumpfile('ele.lammpstrj')\n",
    "trj_file = 'new_ele.lammpstrj'\n",
    "text_file = open(trj_file, \"w\")\n",
    "n = text_file.write(new_content)\n",
    "text_file.close()"
   ]
  },
  {
   "cell_type": "code",
   "execution_count": 7,
   "metadata": {},
   "outputs": [
    {
     "name": "stderr",
     "output_type": "stream",
     "text": [
      "/global/homes/l/linx6/.conda/envs/myenv/lib/python3.7/site-packages/MDAnalysis/topology/guessers.py:146: UserWarning: Failed to guess the mass for the following atom types: LI\n",
      "  warnings.warn(\"Failed to guess the mass for the following atom types: {}\".format(atom_type))\n"
     ]
    }
   ],
   "source": [
    "u = mda.Universe('system_lmp.gro', 'conp_0.xtc','conp_1.xtc', continuous=True)"
   ]
  },
  {
   "cell_type": "code",
   "execution_count": 15,
   "metadata": {},
   "outputs": [
    {
     "data": {
      "text/plain": [
       "<ChainReader containing conp_0.xtc, conp_1.xtc with 171 frames of 22088 atoms>"
      ]
     },
     "execution_count": 15,
     "metadata": {},
     "output_type": "execute_result"
    }
   ],
   "source": [
    "u.trajectory"
   ]
  },
  {
   "cell_type": "code",
   "execution_count": 14,
   "metadata": {},
   "outputs": [
    {
     "name": "stderr",
     "output_type": "stream",
     "text": [
      "/global/homes/l/linx6/.conda/envs/myenv/lib/python3.7/site-packages/MDAnalysis/topology/guessers.py:146: UserWarning: Failed to guess the mass for the following atom types: LI\n",
      "  warnings.warn(\"Failed to guess the mass for the following atom types: {}\".format(atom_type))\n"
     ]
    },
    {
     "data": {
      "text/plain": [
       "<XTCReader conp_total.xtc with 171 frames of 22088 atoms>"
      ]
     },
     "execution_count": 14,
     "metadata": {},
     "output_type": "execute_result"
    }
   ],
   "source": [
    "u_try = mda.Universe('system_lmp.gro', 'conp_total.xtc')\n",
    "u_try.trajectory"
   ]
  },
  {
   "cell_type": "code",
   "execution_count": 13,
   "metadata": {},
   "outputs": [],
   "source": [
    "u_all = u.select_atoms(\"all\")\n",
    "with mda.Writer(\"conp_total.xtc\", u_all.n_atoms) as W:\n",
    "    for ts in u.trajectory:\n",
    "        W.write(u_all)"
   ]
  },
  {
   "cell_type": "code",
   "execution_count": 41,
   "metadata": {},
   "outputs": [
    {
     "name": "stdout",
     "output_type": "stream",
     "text": [
      "< Timestep 0 with unit cell dimensions [ 35.       35.      244.86667  90.       90.       90.     ] >\n",
      "< Timestep 1 with unit cell dimensions [ 35.       35.      244.86667  90.       90.       90.     ] >\n",
      "< Timestep 2 with unit cell dimensions [ 35.       35.      244.86667  90.       90.       90.     ] >\n",
      "< Timestep 3 with unit cell dimensions [ 35.       35.      244.86667  90.       90.       90.     ] >\n",
      "< Timestep 4 with unit cell dimensions [ 35.       35.      244.86667  90.       90.       90.     ] >\n",
      "< Timestep 5 with unit cell dimensions [ 35.       35.      244.86667  90.       90.       90.     ] >\n",
      "< Timestep 6 with unit cell dimensions [ 35.       35.      244.86667  90.       90.       90.     ] >\n",
      "< Timestep 7 with unit cell dimensions [ 35.       35.      244.86667  90.       90.       90.     ] >\n",
      "< Timestep 8 with unit cell dimensions [ 35.       35.      244.86667  90.       90.       90.     ] >\n",
      "< Timestep 9 with unit cell dimensions [ 35.       35.      244.86667  90.       90.       90.     ] >\n",
      "< Timestep 10 with unit cell dimensions [ 35.       35.      244.86667  90.       90.       90.     ] >\n",
      "< Timestep 11 with unit cell dimensions [ 35.       35.      244.86667  90.       90.       90.     ] >\n",
      "< Timestep 12 with unit cell dimensions [ 35.       35.      244.86667  90.       90.       90.     ] >\n",
      "< Timestep 13 with unit cell dimensions [ 35.       35.      244.86667  90.       90.       90.     ] >\n",
      "< Timestep 14 with unit cell dimensions [ 35.       35.      244.86667  90.       90.       90.     ] >\n",
      "< Timestep 15 with unit cell dimensions [ 35.       35.      244.86667  90.       90.       90.     ] >\n",
      "< Timestep 16 with unit cell dimensions [ 35.       35.      244.86667  90.       90.       90.     ] >\n",
      "< Timestep 17 with unit cell dimensions [ 35.       35.      244.86667  90.       90.       90.     ] >\n",
      "< Timestep 18 with unit cell dimensions [ 35.       35.      244.86667  90.       90.       90.     ] >\n",
      "< Timestep 19 with unit cell dimensions [ 35.       35.      244.86667  90.       90.       90.     ] >\n",
      "< Timestep 20 with unit cell dimensions [ 35.       35.      244.86667  90.       90.       90.     ] >\n",
      "< Timestep 21 with unit cell dimensions [ 35.       35.      244.86667  90.       90.       90.     ] >\n",
      "< Timestep 22 with unit cell dimensions [ 35.       35.      244.86667  90.       90.       90.     ] >\n",
      "< Timestep 23 with unit cell dimensions [ 35.       35.      244.86667  90.       90.       90.     ] >\n",
      "< Timestep 24 with unit cell dimensions [ 35.       35.      244.86667  90.       90.       90.     ] >\n",
      "< Timestep 25 with unit cell dimensions [ 35.       35.      244.86667  90.       90.       90.     ] >\n",
      "< Timestep 26 with unit cell dimensions [ 35.       35.      244.86667  90.       90.       90.     ] >\n",
      "< Timestep 27 with unit cell dimensions [ 35.       35.      244.86667  90.       90.       90.     ] >\n",
      "< Timestep 28 with unit cell dimensions [ 35.       35.      244.86667  90.       90.       90.     ] >\n",
      "< Timestep 29 with unit cell dimensions [ 35.       35.      244.86667  90.       90.       90.     ] >\n",
      "< Timestep 30 with unit cell dimensions [ 35.       35.      244.86667  90.       90.       90.     ] >\n",
      "< Timestep 31 with unit cell dimensions [ 35.       35.      244.86667  90.       90.       90.     ] >\n",
      "< Timestep 32 with unit cell dimensions [ 35.       35.      244.86667  90.       90.       90.     ] >\n",
      "< Timestep 33 with unit cell dimensions [ 35.       35.      244.86667  90.       90.       90.     ] >\n",
      "< Timestep 34 with unit cell dimensions [ 35.       35.      244.86667  90.       90.       90.     ] >\n",
      "< Timestep 35 with unit cell dimensions [ 35.       35.      244.86667  90.       90.       90.     ] >\n",
      "< Timestep 36 with unit cell dimensions [ 35.       35.      244.86667  90.       90.       90.     ] >\n",
      "< Timestep 37 with unit cell dimensions [ 35.       35.      244.86667  90.       90.       90.     ] >\n",
      "< Timestep 38 with unit cell dimensions [ 35.       35.      244.86667  90.       90.       90.     ] >\n",
      "< Timestep 39 with unit cell dimensions [ 35.       35.      244.86667  90.       90.       90.     ] >\n",
      "< Timestep 40 with unit cell dimensions [ 35.       35.      244.86667  90.       90.       90.     ] >\n",
      "< Timestep 41 with unit cell dimensions [ 35.       35.      244.86667  90.       90.       90.     ] >\n",
      "< Timestep 42 with unit cell dimensions [ 35.       35.      244.86667  90.       90.       90.     ] >\n",
      "< Timestep 43 with unit cell dimensions [ 35.       35.      244.86667  90.       90.       90.     ] >\n",
      "< Timestep 44 with unit cell dimensions [ 35.       35.      244.86667  90.       90.       90.     ] >\n",
      "< Timestep 45 with unit cell dimensions [ 35.       35.      244.86667  90.       90.       90.     ] >\n",
      "< Timestep 46 with unit cell dimensions [ 35.       35.      244.86667  90.       90.       90.     ] >\n",
      "< Timestep 47 with unit cell dimensions [ 35.       35.      244.86667  90.       90.       90.     ] >\n"
     ]
    }
   ],
   "source": [
    "for t in u.trajectory[:-1]:\n",
    "    print(t)"
   ]
  },
  {
   "cell_type": "code",
   "execution_count": 19,
   "metadata": {},
   "outputs": [],
   "source": [
    "def q_np2(lmp_trj, n_atom):\n",
    "    # import sys\n",
    "    \"\"\"extract charge data from .lammpstrj (only have id q) to numpy array\n",
    "\n",
    "    Args:\n",
    "        lmp_trj (_type_): .lammpstrj\n",
    "        n_atom (int): the total number of atoms in the system\n",
    "\n",
    "    Returns:\n",
    "        np array: charge data in 2d array [n_frames, n_atoms]\n",
    "    \"\"\"\n",
    "    # fin = open(lmp_trj, \"r\")\n",
    "    # fin.close()\n",
    "    # linelist = fin.readlines()\n",
    "    q_total = []\n",
    "    with open(lmp_trj, 'r') as f:\n",
    "        look = False\n",
    "        i = 0 \n",
    "        for line in f:\n",
    "            i += 1 \n",
    "            line_ = line.split()\n",
    "            if line_[0] == \"ITEM:\" and line_[1] == \"ATOMS\":\n",
    "                look = True\n",
    "            if line_[0] == \"ITEM:\" and line_[1] == \"TIMESTEP\":\n",
    "                look = False\n",
    "            if look and line_[0] != \"ITEM:\":\n",
    "                # print('here')\n",
    "                try:\n",
    "                    q = float(line_[-1])\n",
    "                except:\n",
    "                    print('line number ', i)\n",
    "                    print(line_)\n",
    "                q_total.append(q)\n",
    "    charge = np.array(q_total)\n",
    "    charge_2d = np.reshape(charge, (int(len(charge)/n_atom),n_atom))\n",
    "    return charge_2d\n",
    "\n",
    "charge = q_np2('new_ele.lammpstrj', 3620*2)"
   ]
  },
  {
   "cell_type": "code",
   "execution_count": 20,
   "metadata": {},
   "outputs": [
    {
     "data": {
      "text/plain": [
       "(48, 7240)"
      ]
     },
     "execution_count": 20,
     "metadata": {},
     "output_type": "execute_result"
    }
   ],
   "source": [
    "charge.shape"
   ]
  },
  {
   "cell_type": "code",
   "execution_count": 11,
   "metadata": {},
   "outputs": [],
   "source": []
  }
 ],
 "metadata": {
  "kernelspec": {
   "display_name": "MyEnv",
   "language": "python",
   "name": "myenv"
  },
  "language_info": {
   "codemirror_mode": {
    "name": "ipython",
    "version": 3
   },
   "file_extension": ".py",
   "mimetype": "text/x-python",
   "name": "python",
   "nbconvert_exporter": "python",
   "pygments_lexer": "ipython3",
   "version": "3.7.12"
  },
  "orig_nbformat": 4
 },
 "nbformat": 4,
 "nbformat_minor": 2
}
